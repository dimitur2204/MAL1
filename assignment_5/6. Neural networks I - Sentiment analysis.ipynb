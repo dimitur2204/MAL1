{
 "cells": [
  {
   "cell_type": "markdown",
   "id": "5bc9be56",
   "metadata": {},
   "source": [
    "## Sentiment Analysis"
   ]
  },
  {
   "cell_type": "markdown",
   "id": "818b3b52",
   "metadata": {},
   "source": [
    "In this exercise we use the IMDb-dataset, which we will use to perform a sentiment analysis. The code below assumes that the data is placed in the same folder as this notebook. We see that the reviews are loaded as a pandas dataframe, and print the beginning of the first few reviews."
   ]
  },
  {
   "cell_type": "code",
   "execution_count": 1,
   "id": "67da3bc0",
   "metadata": {},
   "outputs": [
    {
     "name": "stdout",
     "output_type": "stream",
     "text": [
      "<class 'pandas.core.frame.DataFrame'>\n",
      "                                                   0\n",
      "0  bromwell high is a cartoon comedy . it ran at ...\n",
      "1  story of a man who has unnatural feelings for ...\n",
      "2  homelessness  or houselessness as george carli...\n",
      "3  airport    starts as a brand new luxury    pla...\n",
      "4  brilliant over  acting by lesley ann warren . ...\n"
     ]
    }
   ],
   "source": [
    "import numpy as np\n",
    "import pandas as pd\n",
    "from sklearn.feature_extraction.text import CountVectorizer\n",
    "from sklearn.model_selection import train_test_split\n",
    "\n",
    "reviews = pd.read_csv('reviews.txt', header=None)\n",
    "labels = pd.read_csv('labels.txt', header=None)\n",
    "Y = (labels=='positive').astype(np.int_)\n",
    "\n",
    "reviews_text = reviews[0].astype(str);\n",
    "X_trainval, X_test, y_trainval, y_test = train_test_split(reviews_text, Y, random_state=42)\n",
    "X_train, X_val, y_train, y_val = train_test_split(X_trainval, y_trainval, random_state=42)\n",
    "\n",
    "cv = CountVectorizer(max_features=10000)\n",
    "X_train = cv.fit_transform(X_train)\n",
    "X_val = cv.transform(X_val)\n",
    "X_test = cv.transform(X_test)\n",
    "X_trainval = cv.transform(X_trainval)\n",
    "\n",
    "print(type(reviews))\n",
    "print(reviews.head())"
   ]
  },
  {
   "cell_type": "code",
   "execution_count": 2,
   "id": "f7ac3450-3ebf-40a4-a9a6-063fcfbf80a4",
   "metadata": {},
   "outputs": [
    {
     "name": "stdout",
     "output_type": "stream",
     "text": [
      "<Compressed Sparse Row sparse matrix of dtype 'int64'\n",
      "\twith 790980 stored elements and shape (6250, 10000)>\n",
      "  Coords\tValues\n",
      "  (0, 73)\t1\n",
      "  (0, 93)\t1\n",
      "  (0, 176)\t1\n",
      "  (0, 177)\t1\n",
      "  (0, 216)\t1\n",
      "  (0, 246)\t2\n",
      "  (0, 263)\t2\n",
      "  (0, 305)\t1\n",
      "  (0, 325)\t13\n",
      "  (0, 339)\t1\n",
      "  (0, 369)\t1\n",
      "  (0, 417)\t1\n",
      "  (0, 451)\t1\n",
      "  (0, 546)\t1\n",
      "  (0, 550)\t1\n",
      "  (0, 649)\t1\n",
      "  (0, 650)\t1\n",
      "  (0, 762)\t1\n",
      "  (0, 766)\t1\n",
      "  (0, 775)\t1\n",
      "  (0, 779)\t1\n",
      "  (0, 882)\t2\n",
      "  (0, 1028)\t6\n",
      "  (0, 1104)\t1\n",
      "  (0, 1105)\t1\n",
      "  :\t:\n",
      "  (6249, 8241)\t1\n",
      "  (6249, 8415)\t1\n",
      "  (6249, 8543)\t1\n",
      "  (6249, 8706)\t1\n",
      "  (6249, 8770)\t2\n",
      "  (6249, 8869)\t1\n",
      "  (6249, 8905)\t2\n",
      "  (6249, 8946)\t4\n",
      "  (6249, 8948)\t8\n",
      "  (6249, 8976)\t1\n",
      "  (6249, 8983)\t1\n",
      "  (6249, 8991)\t3\n",
      "  (6249, 8998)\t1\n",
      "  (6249, 9055)\t1\n",
      "  (6249, 9056)\t2\n",
      "  (6249, 9075)\t7\n",
      "  (6249, 9290)\t1\n",
      "  (6249, 9360)\t1\n",
      "  (6249, 9507)\t1\n",
      "  (6249, 9648)\t1\n",
      "  (6249, 9733)\t1\n",
      "  (6249, 9856)\t1\n",
      "  (6249, 9883)\t1\n",
      "  (6249, 9908)\t2\n",
      "  (6249, 9968)\t3\n",
      "[0 0 0 ... 0 0 0]\n"
     ]
    }
   ],
   "source": [
    "print(X_test)\n",
    "review_vector = X_test[0]\n",
    "dense_vector = review_vector.toarray().flatten()\n",
    "print(dense_vector)"
   ]
  },
  {
   "cell_type": "code",
   "execution_count": 3,
   "id": "a211f1e5-6496-4d7e-942a-40fd2ee45c14",
   "metadata": {},
   "outputs": [
    {
     "name": "stderr",
     "output_type": "stream",
     "text": [
      "/Users/dimitar.nizamov/pythonenvs/jupyter-env/lib/python3.10/site-packages/keras/src/layers/core/dense.py:87: UserWarning: Do not pass an `input_shape`/`input_dim` argument to a layer. When using Sequential models, prefer using an `Input(shape)` object as the first layer in the model instead.\n",
      "  super().__init__(activity_regularizer=activity_regularizer, **kwargs)\n",
      "2025-04-11 12:18:00.053035: I metal_plugin/src/device/metal_device.cc:1154] Metal device set to: Apple M1 Pro\n",
      "2025-04-11 12:18:00.053095: I metal_plugin/src/device/metal_device.cc:296] systemMemory: 16.00 GB\n",
      "2025-04-11 12:18:00.053108: I metal_plugin/src/device/metal_device.cc:313] maxCacheSize: 5.33 GB\n",
      "WARNING: All log messages before absl::InitializeLog() is called are written to STDERR\n",
      "I0000 00:00:1744366680.053473 34136953 pluggable_device_factory.cc:305] Could not identify NUMA node of platform GPU ID 0, defaulting to 0. Your kernel may not have been built with NUMA support.\n",
      "I0000 00:00:1744366680.053691 34136953 pluggable_device_factory.cc:271] Created TensorFlow device (/job:localhost/replica:0/task:0/device:GPU:0 with 0 MB memory) -> physical PluggableDevice (device: 0, name: METAL, pci bus id: <undefined>)\n",
      "2025-04-11 12:18:02.420905: I tensorflow/core/grappler/optimizers/custom_graph_optimizer_registry.cc:117] Plugin optimizer for device_type GPU is enabled.\n"
     ]
    }
   ],
   "source": [
    "import tensorflow as tf\n",
    "from tensorflow.keras.models import Sequential\n",
    "from tensorflow.keras.layers import Dense\n",
    "from tensorflow.keras.utils import to_categorical\n",
    "from tensorflow.keras.optimizers import Adam, SGD\n",
    "from tensorflow.keras.callbacks import EarlyStopping # Added EarlyStopping\n",
    "from tensorflow.keras.layers import Dropout\n",
    "from tensorflow.keras import regularizers\n",
    "\n",
    "X_train = X_train.toarray()\n",
    "X_val = X_val.toarray()\n",
    "X_test = X_test.toarray()\n",
    "\n",
    "model = Sequential() # initialize a neural network\n",
    "model.add(Dense(units = 6666, activation='tanh', input_dim=10000)) # add a hidden layer\n",
    "model.add(Dense(units = 1, activation='sigmoid')) #add the output layer\n",
    "\n",
    "sgd = SGD(learning_rate = 0.1)\n",
    "model.compile(loss = 'binary_crossentropy', optimizer = sgd, metrics = ['accuracy'])\n",
    "\n",
    "history = model.fit(X_train, y_train, epochs = 20, batch_size = 64, validation_data=(X_val, y_val), verbose = 0)"
   ]
  },
  {
   "cell_type": "markdown",
   "id": "4982b946",
   "metadata": {},
   "source": [
    "**(a)** Split the reviews and labels in test, train and validation sets. The train and validation sets will be used to train your model and tune hyperparameters, the test set will be saved for testing. Use the `CountVectorizer` from `sklearn.feature_extraction.text` to create a Bag-of-Words representation of the reviews. Only use the 10,000 most frequent words (use the `max_features`-parameter of `CountVectorizer`)."
   ]
  },
  {
   "cell_type": "markdown",
   "id": "ebf07ee9",
   "metadata": {},
   "source": [
    "**(b)** Explore the representation of the reviews. How is a single word represented? How about a whole review?"
   ]
  },
  {
   "cell_type": "markdown",
   "id": "c2638fce",
   "metadata": {},
   "source": [
    "**(c)** Train a neural network with a single hidden layer on the dataset, tuning the relevant hyperparameters to optimize accuracy. "
   ]
  },
  {
   "cell_type": "markdown",
   "id": "1fd327a6",
   "metadata": {},
   "source": [
    "**(d)** Test your sentiment-classifier on the test set."
   ]
  },
  {
   "cell_type": "markdown",
   "id": "fd44ee62",
   "metadata": {},
   "source": [
    "**(e)** Use the classifier to classify a few sentences you write yourselves. "
   ]
  },
  {
   "cell_type": "code",
   "execution_count": 5,
   "id": "a1ef2970",
   "metadata": {},
   "outputs": [
    {
     "data": {
      "image/png": "[encoded data removed]",
      "text/plain": [
       "<Figure size 640x480 with 1 Axes>"
      ]
     },
     "metadata": {},
     "output_type": "display_data"
    },
    {
     "name": "stdout",
     "output_type": "stream",
     "text": [
      "\u001b[1m440/440\u001b[0m \u001b[32m━━━━━━━━━━━━━━━━━━━━\u001b[0m\u001b[37m\u001b[0m \u001b[1m5s\u001b[0m 11ms/step - accuracy: 0.9289 - loss: 0.1869\n",
      "Loss + accuracy on train data: [0.1901160329580307, 0.9288152456283569]\n",
      "\u001b[1m196/196\u001b[0m \u001b[32m━━━━━━━━━━━━━━━━━━━━\u001b[0m\u001b[37m\u001b[0m \u001b[1m2s\u001b[0m 10ms/step - accuracy: 0.8618 - loss: 0.3422\n",
      "Loss + accuracy on test data: [0.33346545696258545, 0.8684800267219543]\n"
     ]
    }
   ],
   "source": [
    "import matplotlib.pyplot as plt\n",
    "\n",
    "plt.figure()\n",
    "plt.title(\"Learning curves\")\n",
    "plt.xlabel(\"Epoch\")\n",
    "plt.ylabel(\"Cross entropy loss\")\n",
    "plt.plot(history.history['loss'], label = 'train')\n",
    "plt.plot(history.history['val_loss'], label = 'valid')\n",
    "plt.legend()\n",
    "plt.show()\n",
    "\n",
    "print(\"Loss + accuracy on train data: {}\".format(model.evaluate(X_train, y_train)))\n",
    "print(\"Loss + accuracy on test data: {}\".format(model.evaluate(X_test, y_test)))"
   ]
  },
  {
   "cell_type": "code",
   "execution_count": 7,
   "id": "496e5bef-34ad-4de8-ad0c-4e95756c69bc",
   "metadata": {},
   "outputs": [
    {
     "name": "stdout",
     "output_type": "stream",
     "text": [
      "(1, 10000)\n",
      "\u001b[1m1/1\u001b[0m \u001b[32m━━━━━━━━━━━━━━━━━━━━\u001b[0m\u001b[37m\u001b[0m \u001b[1m1s\u001b[0m 849ms/step - accuracy: 1.0000 - loss: 0.4543\n",
      "Loss + accuracy on positive sentence with positive answer: [0.4543212950229645, 1.0]\n",
      "\u001b[1m1/1\u001b[0m \u001b[32m━━━━━━━━━━━━━━━━━━━━\u001b[0m\u001b[37m\u001b[0m \u001b[1m0s\u001b[0m 26ms/step - accuracy: 1.0000 - loss: 0.1072\n",
      "Loss + accuracy on negative sentence with negative answer: [0.10723313689231873, 1.0]\n",
      "\u001b[1m1/1\u001b[0m \u001b[32m━━━━━━━━━━━━━━━━━━━━\u001b[0m\u001b[37m\u001b[0m \u001b[1m0s\u001b[0m 26ms/step - accuracy: 0.0000e+00 - loss: 1.0075\n",
      "Loss + accuracy on positive sentence with negative answer: [1.0075254440307617, 0.0]\n",
      "\u001b[1m1/1\u001b[0m \u001b[32m━━━━━━━━━━━━━━━━━━━━\u001b[0m\u001b[37m\u001b[0m \u001b[1m0s\u001b[0m 27ms/step - accuracy: 0.0000e+00 - loss: 2.2859\n",
      "Loss + accuracy on negative sentence with positive answer: [2.2858874797821045, 0.0]\n"
     ]
    }
   ],
   "source": [
    "test_sentence_positive = [\n",
    "    \"I am think this is good, I am watch with friends, but most of them very liked\"\n",
    "]\n",
    "\n",
    "test_sentence_negative = [\n",
    "    \"Very bed movie, I am no like\"\n",
    "]\n",
    "\n",
    "X_pos = cv.transform(test_sentence_positive).toarray()\n",
    "X_neg = cv.transform(test_sentence_negative).toarray()\n",
    "\n",
    "y_pos = np.array([[1]], dtype=np.float32)\n",
    "y_neg = np.array([[0]], dtype=np.float32)\n",
    "\n",
    "print(X_pos.shape)\n",
    "print(\"Loss + accuracy on positive sentence with positive answer: {}\".format(model.evaluate(X_pos, y_pos)))\n",
    "print(\"Loss + accuracy on negative sentence with negative answer: {}\".format(model.evaluate(X_neg, y_neg)))\n",
    "print(\"Loss + accuracy on positive sentence with negative answer: {}\".format(model.evaluate(X_pos, y_neg)))\n",
    "print(\"Loss + accuracy on negative sentence with positive answer: {}\".format(model.evaluate(X_neg, y_pos)))"
   ]
  }
 ],
 "metadata": {
  "kernelspec": {
   "display_name": "Python 3 (ipykernel)",
   "language": "python",
   "name": "python3"
  },
  "language_info": {
   "codemirror_mode": {
    "name": "ipython",
    "version": 3
   },
   "file_extension": ".py",
   "mimetype": "text/x-python",
   "name": "python",
   "nbconvert_exporter": "python",
   "pygments_lexer": "ipython3",
   "version": "3.10.17"
  }
 },
 "nbformat": 4,
 "nbformat_minor": 5
}
