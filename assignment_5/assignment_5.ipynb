{
 "cells": [
  {
   "cell_type": "markdown",
   "id": "5bc9be56",
   "metadata": {},
   "source": [
    "## Sentiment Analysis"
   ]
  },
  {
   "cell_type": "markdown",
   "id": "818b3b52",
   "metadata": {},
   "source": [
    "In this exercise we use the IMDb-dataset, which we will use to perform a sentiment analysis. The code below assumes that the data is placed in the same folder as this notebook. We see that the reviews are loaded as a pandas dataframe, and print the beginning of the first few reviews."
   ]
  },
  {
   "cell_type": "code",
   "execution_count": 52,
   "id": "67da3bc0",
   "metadata": {},
   "outputs": [
    {
     "name": "stdout",
     "output_type": "stream",
     "text": [
      "25000\n"
     ]
    }
   ],
   "source": [
    "import numpy as np\n",
    "import pandas as pd\n",
    "\n",
    "reviews = pd.read_csv('reviews.txt', header=None)\n",
    "labels = pd.read_csv('labels.txt', header=None)\n",
    "Y = (labels=='positive').astype(np.int_)\n",
    "print(len(reviews[0]))"
   ]
  },
  {
   "cell_type": "markdown",
   "id": "4982b946",
   "metadata": {},
   "source": [
    "**(a)** Split the reviews and labels in test, train and validation sets. The train and validation sets will be used to train your model and tune hyperparameters, the test set will be saved for testing. Use the `CountVectorizer` from `sklearn.feature_extraction.text` to create a Bag-of-Words representation of the reviews. Only use the 10,000 most frequent words (use the `max_features`-parameter of `CountVectorizer`)."
   ]
  },
  {
   "cell_type": "markdown",
   "id": "ebf07ee9",
   "metadata": {},
   "source": [
    "**(b)** Explore the representation of the reviews. How is a single word represented? How about a whole review?"
   ]
  },
  {
   "cell_type": "markdown",
   "id": "c2638fce",
   "metadata": {},
   "source": [
    "**(c)** Train a neural network with a single hidden layer on the dataset, tuning the relevant hyperparameters to optimize accuracy. "
   ]
  },
  {
   "cell_type": "markdown",
   "id": "1fd327a6",
   "metadata": {},
   "source": [
    "**(d)** Test your sentiment-classifier on the test set."
   ]
  },
  {
   "cell_type": "markdown",
   "id": "fd44ee62",
   "metadata": {},
   "source": [
    "**(e)** Use the classifier to classify a few sentences you write yourselves. "
   ]
  },
  {
   "cell_type": "code",
   "execution_count": 46,
   "id": "a1ef2970",
   "metadata": {},
   "outputs": [
    {
     "name": "stdout",
     "output_type": "stream",
     "text": [
      "<Compressed Sparse Row sparse matrix of dtype 'int64'\n",
      "\twith 171 stored elements and shape (1, 10000)>\n",
      "  Coords\tValues\n",
      "  (0, 8991)\t4\n",
      "  (0, 2584)\t5\n",
      "  (0, 9675)\t5\n",
      "  (0, 9519)\t4\n",
      "  (0, 325)\t15\n",
      "  (0, 3170)\t1\n",
      "  (0, 546)\t5\n",
      "  (0, 8948)\t20\n",
      "  (0, 7671)\t1\n",
      "  (0, 9053)\t3\n",
      "  (0, 2970)\t1\n",
      "  (0, 9765)\t2\n",
      "  (0, 9000)\t1\n",
      "  (0, 7102)\t1\n",
      "  (0, 4449)\t1\n",
      "  (0, 3322)\t3\n",
      "  (0, 503)\t6\n",
      "  (0, 4392)\t3\n",
      "  (0, 8976)\t3\n",
      "  (0, 2449)\t2\n",
      "  (0, 3834)\t2\n",
      "  (0, 4805)\t1\n",
      "  (0, 2003)\t1\n",
      "  (0, 8389)\t4\n",
      "  (0, 3607)\t1\n",
      "  :\t:\n",
      "  (0, 9337)\t1\n",
      "  (0, 2463)\t1\n",
      "  (0, 3059)\t1\n",
      "  (0, 6631)\t1\n",
      "  (0, 316)\t1\n",
      "  (0, 9427)\t1\n",
      "  (0, 8049)\t1\n",
      "  (0, 6285)\t1\n",
      "  (0, 3593)\t2\n",
      "  (0, 2948)\t1\n",
      "  (0, 9689)\t1\n",
      "  (0, 837)\t1\n",
      "  (0, 2719)\t1\n",
      "  (0, 18)\t1\n",
      "  (0, 7157)\t1\n",
      "  (0, 793)\t1\n",
      "  (0, 4089)\t1\n",
      "  (0, 8264)\t1\n",
      "  (0, 3190)\t1\n",
      "  (0, 3097)\t1\n",
      "  (0, 8304)\t1\n",
      "  (0, 153)\t1\n",
      "  (0, 3056)\t1\n",
      "  (0, 1451)\t1\n",
      "  (0, 6259)\t1\n"
     ]
    }
   ],
   "source": [
    "from sklearn.model_selection import train_test_split\n",
    "from sklearn.feature_extraction.text import CountVectorizer\n",
    "\n",
    "reviews_text = reviews[0].astype(str)\n",
    "X_trainval, X_test, y_trainval, y_test = train_test_split(reviews_text, Y, random_state=42)\n",
    "X_train, X_val, y_train, y_val = train_test_split(X_trainval, y_trainval, random_state=42)\n",
    "\n",
    "vectorizer = CountVectorizer(max_features=10000)\n",
    "X_train = vectorizer.fit_transform(X_train)\n",
    "X_val = vectorizer.transform(X_val)\n",
    "X_test = vectorizer.transform(X_test)\n",
    "X_trainval = vectorizer.transform(X_trainval)\n",
    "print(X_train[0])"
   ]
  },
  {
   "cell_type": "code",
   "execution_count": 55,
   "id": "c4cfb405-5954-4164-ba1f-cf1db6377835",
   "metadata": {},
   "outputs": [
    {
     "name": "stdout",
     "output_type": "stream",
     "text": [
      "Words in review (most used first):\n",
      "  the: 20\n",
      "  and: 15\n",
      "  to: 10\n",
      "  not: 9\n",
      "  of: 9\n",
      "  br: 8\n",
      "  it: 8\n",
      "  as: 6\n",
      "  on: 6\n",
      "  at: 5\n",
      "  documentary: 5\n",
      "  much: 5\n",
      "  was: 5\n",
      "  about: 4\n",
      "  are: 4\n",
      "  do: 4\n",
      "  footage: 4\n",
      "  in: 4\n",
      "  is: 4\n",
      "  sport: 4\n",
      "  that: 4\n",
      "  this: 4\n",
      "  too: 4\n",
      "  very: 4\n",
      "  but: 3\n",
      "  felt: 3\n",
      "  have: 3\n",
      "  if: 3\n",
      "  surfers: 3\n",
      "  these: 3\n",
      "  they: 3\n",
      "  time: 3\n",
      "  times: 3\n",
      "  would: 3\n",
      "  actual: 2\n",
      "  although: 2\n",
      "  amazing: 2\n",
      "  be: 2\n",
      "  been: 2\n",
      "  better: 2\n",
      "  could: 2\n",
      "  did: 2\n",
      "  event: 2\n",
      "  events: 2\n",
      "  for: 2\n",
      "  fresh: 2\n",
      "  good: 2\n",
      "  individual: 2\n",
      "  locations: 2\n",
      "  men: 2\n",
      "  see: 2\n",
      "  so: 2\n",
      "  specific: 2\n",
      "  surfing: 2\n",
      "  talking: 2\n",
      "  them: 2\n",
      "  then: 2\n",
      "  which: 2\n",
      "  who: 2\n",
      "  you: 2\n",
      "  above: 1\n",
      "  absolutely: 1\n",
      "  advise: 1\n",
      "  all: 1\n",
      "  an: 1\n",
      "  avid: 1\n",
      "  become: 1\n",
      "  being: 1\n",
      "  best: 1\n",
      "  biggest: 1\n",
      "  boring: 1\n",
      "  breath: 1\n",
      "  certain: 1\n",
      "  changing: 1\n",
      "  check: 1\n",
      "  clips: 1\n",
      "  course: 1\n",
      "  covered: 1\n",
      "  covering: 1\n",
      "  day: 1\n",
      "  depth: 1\n",
      "  difficulty: 1\n",
      "  disappointment: 1\n",
      "  due: 1\n",
      "  end: 1\n",
      "  enjoyed: 1\n",
      "  entertaining: 1\n",
      "  especially: 1\n",
      "  etc: 1\n",
      "  everybody: 1\n",
      "  everything: 1\n",
      "  exciting: 1\n",
      "  exposing: 1\n",
      "  extremely: 1\n",
      "  far: 1\n",
      "  film: 1\n",
      "  focused: 1\n",
      "  from: 1\n",
      "  furthermore: 1\n",
      "  get: 1\n",
      "  give: 1\n",
      "  go: 1\n",
      "  got: 1\n",
      "  had: 1\n",
      "  having: 1\n",
      "  hear: 1\n",
      "  hearing: 1\n",
      "  high: 1\n",
      "  history: 1\n",
      "  how: 1\n",
      "  ideology: 1\n",
      "  impressive: 1\n",
      "  its: 1\n",
      "  job: 1\n",
      "  life: 1\n",
      "  lot: 1\n",
      "  many: 1\n",
      "  moments: 1\n",
      "  more: 1\n",
      "  my: 1\n",
      "  myself: 1\n",
      "  nature: 1\n",
      "  nonetheless: 1\n",
      "  nuts: 1\n",
      "  origin: 1\n",
      "  out: 1\n",
      "  overall: 1\n",
      "  people: 1\n",
      "  please: 1\n",
      "  present: 1\n",
      "  presented: 1\n",
      "  proper: 1\n",
      "  rather: 1\n",
      "  reason: 1\n",
      "  reasons: 1\n",
      "  research: 1\n",
      "  respected: 1\n",
      "  same: 1\n",
      "  score: 1\n",
      "  screen: 1\n",
      "  show: 1\n",
      "  silver: 1\n",
      "  some: 1\n",
      "  soundtrack: 1\n",
      "  speak: 1\n",
      "  spoke: 1\n",
      "  stories: 1\n",
      "  story: 1\n",
      "  such: 1\n",
      "  surf: 1\n",
      "  taking: 1\n",
      "  there: 1\n",
      "  think: 1\n",
      "  those: 1\n",
      "  thought: 1\n",
      "  unable: 1\n",
      "  understand: 1\n",
      "  unfolding: 1\n",
      "  until: 1\n",
      "  up: 1\n",
      "  utterly: 1\n",
      "  video: 1\n",
      "  waiting: 1\n",
      "  watching: 1\n",
      "  way: 1\n",
      "  well: 1\n",
      "  were: 1\n",
      "  whole: 1\n",
      "  why: 1\n",
      "  with: 1\n",
      "  yet: 1\n",
      "14062\n"
     ]
    }
   ],
   "source": [
    "feature_names = vectorizer.get_feature_names_out()\n",
    "\n",
    "dense_review_vector = X_train[0].toarray().flatten()\n",
    "word_counts = []\n",
    "for i, count in enumerate(dense_review_vector):\n",
    "    if count > 0:\n",
    "        word = feature_names[i]\n",
    "        word_counts.append((word, count))\n",
    "\n",
    "word_counts_sorted = sorted(word_counts, key=lambda x: x[1], reverse=True)\n",
    "print(\"Words in review (most used first):\")\n",
    "for word, count in word_counts_sorted:\n",
    "    print(f\"  {word}: {int(count)}\")"
   ]
  },
  {
   "cell_type": "markdown",
   "id": "54beee42-d594-4c34-80b4-c4b9f7af1ef4",
   "metadata": {},
   "source": [
    "Count vectorizer with the max_feature=10000 parameter created a vocabulary with the most common 10000 words from the reviews. When printing the outputs, one word is represented in this format: (row index, column index) value. For example, (0, 73) 1 means that the firts review (row index 0) contains 1 (value) word from the vocabulary which itself is the 74th (column index 73) word in the vocabulary. \n",
    "\n",
    "Meanwhile, a full review will be printed like a vector of word counts, e.g. [0, 2, 3, ...., 0], each number corresponding to a word in the vocabulary. 0 means that the word from the vocabulary is not the review and any other number shows how many times it appeared in the review. For example, let's say my vocabulary is [I, tractor, bus] and my review is \"I love driving the bus\", then the review vector will be [1, 0, 1] because \"I\" was found in the review once, \"tractor\" never and \"bus\" also once."
   ]
  },
  {
   "cell_type": "code",
   "execution_count": 57,
   "id": "d77f3db8-33cd-4926-83c2-ea019e916576",
   "metadata": {},
   "outputs": [],
   "source": [
    "import tensorflow as tf\n",
    "from tensorflow.keras.models import Sequential\n",
    "from tensorflow.keras.layers import Dense, Input\n",
    "from tensorflow.keras.optimizers import SGD\n",
    "from tensorflow.keras.callbacks import EarlyStopping\n",
    "from tensorflow.keras.layers import Dropout\n",
    "from tensorflow.keras import regularizers\n",
    "\n",
    "model = Sequential() \n",
    "model.add(Input(shape=(10000,)))\n",
    "model.add(Dense(units = 6666, activation='sigmoid')) \n",
    "model.add(Dense(units = 1, activation='sigmoid')) \n",
    "\n",
    "sgd = SGD(learning_rate = 0.1)\n",
    "model.compile(loss = 'binary_crossentropy', optimizer = sgd, metrics = ['accuracy'])\n",
    "\n",
    "history = model.fit(X_train.toarray(), y_train, epochs = 20, batch_size = 64, validation_data=(X_val.toarray(), y_val), verbose = 0)"
   ]
  },
  {
   "cell_type": "code",
   "execution_count": 51,
   "id": "5f09e282-4fcc-4ea1-ab4d-ab4cd3ce5304",
   "metadata": {},
   "outputs": [
    {
     "data": {
      "image/png": "[encoded data removed]",
      "text/plain": [
       "<Figure size 640x480 with 1 Axes>"
      ]
     },
     "metadata": {},
     "output_type": "display_data"
    },
    {
     "name": "stdout",
     "output_type": "stream",
     "text": [
      "\u001b[1m440/440\u001b[0m \u001b[32m━━━━━━━━━━━━━━━━━━━━\u001b[0m\u001b[37m\u001b[0m \u001b[1m8s\u001b[0m 17ms/step - accuracy: 0.8323 - loss: 0.3677\n",
      "Loss + accuracy on train data: [0.3703721761703491, 0.82740718126297]\n",
      "\u001b[1m196/196\u001b[0m \u001b[32m━━━━━━━━━━━━━━━━━━━━\u001b[0m\u001b[37m\u001b[0m \u001b[1m3s\u001b[0m 17ms/step - accuracy: 0.7945 - loss: 0.4858\n",
      "Loss + accuracy on test data: [0.4724450409412384, 0.7964800000190735]\n"
     ]
    }
   ],
   "source": [
    "import matplotlib.pyplot as plt\n",
    "\n",
    "plt.figure()\n",
    "plt.title(\"Learning curves\")\n",
    "plt.xlabel(\"Epoch\")\n",
    "plt.ylabel(\"Cross entropy loss\")\n",
    "plt.plot(history.history['loss'], label = 'train')\n",
    "plt.plot(history.history['val_loss'], label = 'validation')\n",
    "plt.legend()\n",
    "plt.show()\n",
    "\n",
    "print(\"Loss + accuracy on train data: {}\".format(model.evaluate(X_train.toarray(), y_train)))\n",
    "print(\"Loss + accuracy on test data: {}\".format(model.evaluate(X_test.toarray(), y_test)))"
   ]
  },
  {
   "cell_type": "code",
   "execution_count": 35,
   "id": "cf20dad7-1895-4094-b6a3-9b5b5a492446",
   "metadata": {},
   "outputs": [
    {
     "name": "stdout",
     "output_type": "stream",
     "text": [
      "(1, 10000)\n",
      "\u001b[1m1/1\u001b[0m \u001b[32m━━━━━━━━━━━━━━━━━━━━\u001b[0m\u001b[37m\u001b[0m \u001b[1m0s\u001b[0m 73ms/step - accuracy: 1.0000 - loss: 0.3732\n",
      "Loss + accuracy on positive sentence with positive answer: [0.3732129633426666, 1.0]\n",
      "\u001b[1m1/1\u001b[0m \u001b[32m━━━━━━━━━━━━━━━━━━━━\u001b[0m\u001b[37m\u001b[0m \u001b[1m0s\u001b[0m 74ms/step - accuracy: 1.0000 - loss: 0.2333\n",
      "Loss + accuracy on negative sentence with negative answer: [0.23325899243354797, 1.0]\n",
      "\u001b[1m1/1\u001b[0m \u001b[32m━━━━━━━━━━━━━━━━━━━━\u001b[0m\u001b[37m\u001b[0m \u001b[1m0s\u001b[0m 63ms/step - accuracy: 0.0000e+00 - loss: 1.1664\n",
      "Loss + accuracy on positive sentence with negative answer: [1.1664155721664429, 0.0]\n",
      "\u001b[1m1/1\u001b[0m \u001b[32m━━━━━━━━━━━━━━━━━━━━\u001b[0m\u001b[37m\u001b[0m \u001b[1m0s\u001b[0m 66ms/step - accuracy: 0.0000e+00 - loss: 1.5700\n",
      "Loss + accuracy on negative sentence with positive answer: [1.5699694156646729, 0.0]\n"
     ]
    }
   ],
   "source": [
    "test_sentence_positive = [\n",
    "    \"Breaking Bad is one of the best TV shows ever made, the idea is unique, the actors are fantastic and setting is fitting\"\n",
    "]\n",
    "\n",
    "test_sentence_negative = [\n",
    "    \"The last season of Game of Thrones was a disappointment, the only interesting part was the fight between the dead and the alive and even there the outcome was rather uninteresting\"\n",
    "]\n",
    "\n",
    "X_pos = vectorizer.transform(test_sentence_positive).toarray()\n",
    "X_neg = vectorizer.transform(test_sentence_negative).toarray()\n",
    "\n",
    "y_pos = np.array([[1]], dtype=np.float32)\n",
    "y_neg = np.array([[0]], dtype=np.float32)\n",
    "\n",
    "print(X_pos.shape)\n",
    "print(\"Loss + accuracy on positive sentence with positive answer: {}\".format(model.evaluate(X_pos, y_pos)))\n",
    "print(\"Loss + accuracy on negative sentence with negative answer: {}\".format(model.evaluate(X_neg, y_neg)))\n",
    "print(\"Loss + accuracy on positive sentence with negative answer: {}\".format(model.evaluate(X_pos, y_neg)))\n",
    "print(\"Loss + accuracy on negative sentence with positive answer: {}\".format(model.evaluate(X_neg, y_pos)))"
   ]
  }
 ],
 "metadata": {
  "kernelspec": {
   "display_name": "Python 3 (ipykernel)",
   "language": "python",
   "name": "python3"
  },
  "language_info": {
   "codemirror_mode": {
    "name": "ipython",
    "version": 3
   },
   "file_extension": ".py",
   "mimetype": "text/x-python",
   "name": "python",
   "nbconvert_exporter": "python",
   "pygments_lexer": "ipython3",
   "version": "3.10.17"
  }
 },
 "nbformat": 4,
 "nbformat_minor": 5
}
