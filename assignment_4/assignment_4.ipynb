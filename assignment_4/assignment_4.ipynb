{
 "cells": [
  {
   "cell_type": "markdown",
   "id": "0bafe240-5583-43b9-86b0-4366a08c288c",
   "metadata": {},
   "source": [
    "# 4. Mushroom foraging"
   ]
  },
  {
   "cell_type": "markdown",
   "id": "52d567a6-0b39-4543-aaba-2fb1e5183085",
   "metadata": {},
   "source": [
    "* Informed **data preparation**.\n",
    "* 2 different classification models, one of which must be **logistic regression**.\n",
    "* A discussion of which **performance metric** is most relevant for the evaluation of your models.\n",
    "* 2 different **validation methodologies** used to tune hyperparameters.\n",
    "* **Confusion matrices** for your models, and associated comments."
   ]
  },
  {
   "cell_type": "markdown",
   "id": "31181875-5c48-4e3b-9ba3-a0febdb9ebb2",
   "metadata": {},
   "source": [
    "The [mushroom dataset](https://www.kaggle.com/datasets/dhinaharp/mushroom-dataset) contains data about approximately 60000 mushrooms, and your task is to classify them as either edible or poisonous. You can read about the features [here](https://www.kaggle.com/datasets/uciml/mushroom-classification) and import the data using:"
   ]
  },
  {
   "cell_type": "code",
   "execution_count": 5,
   "id": "84f81650-d532-4933-8726-3edf3e2ef242",
   "metadata": {},
   "outputs": [
    {
     "name": "stdout",
     "output_type": "stream",
     "text": [
      "class                    0.000000\n",
      "cap-diameter             0.000000\n",
      "cap-shape                0.000000\n",
      "cap-surface             23.121387\n",
      "cap-color                0.000000\n",
      "does-bruise-or-bleed     0.000000\n",
      "gill-attachment         16.184971\n",
      "gill-spacing            41.040462\n",
      "gill-color               0.000000\n",
      "stem-height              0.000000\n",
      "stem-width               0.000000\n",
      "stem-root               84.393064\n",
      "stem-surface            62.427746\n",
      "stem-color               0.000000\n",
      "veil-type               94.797688\n",
      "veil-color              87.861272\n",
      "has-ring                 0.000000\n",
      "ring-type                4.046243\n",
      "spore-print-color       89.595376\n",
      "habitat                  0.000000\n",
      "season                   0.000000\n",
      "dtype: float64\n"
     ]
    },
    {
     "data": {
      "text/plain": [
       "array([0, 0, 1, ..., 1, 0, 1])"
      ]
     },
     "metadata": {},
     "output_type": "display_data"
    }
   ],
   "source": [
    "import pandas as pd\n",
    "import numpy as np\n",
    "from sklearn.model_selection import train_test_split, cross_val_score, StratifiedKFold, GridSearchCV\n",
    "from sklearn.preprocessing import OneHotEncoder, StandardScaler, LabelEncoder\n",
    "from sklearn.linear_model import LogisticRegression\n",
    "from sklearn.svm import SVC\n",
    "from sklearn.tree import DecisionTreeClassifier\n",
    "import mglearn\n",
    "import matplotlib.pyplot as plt\n",
    "from sklearn.metrics import confusion_matrix, ConfusionMatrixDisplay, precision_score, recall_score, f1_score, accuracy_score, make_scorer\n",
    "\n",
    "\n",
    "pd.set_option('display.max_columns', 1000)\n",
    "df = pd.read_csv('secondary_data.csv',delimiter=';')\n",
    "X = df.drop('class', axis=1)\n",
    "y = df['class']\n",
    "\n",
    "X_trainval, X_test, y_trainval, y_test = train_test_split(\n",
    "    X, y, random_state=42\n",
    ")\n",
    "X_train, X_val, y_train, y_val = train_test_split(\n",
    "    X_trainval, y_trainval, random_state=42\n",
    ")\n",
    "\n",
    "\n",
    "print((df.isna().sum()/len(df)) * 100)\n",
    "df.drop(['gill-spacing', 'stem-root', 'veil-type', 'veil-color', 'stem-surface', 'spore-print-color'], inplace=True, axis=1)\n",
    "df.dropna(inplace=True)\n",
    "\n",
    "categorical_features = X.select_dtypes(include='object').columns.tolist()\n",
    "numerical_features = X.select_dtypes(exclude=['object']).columns.tolist()\n",
    "\n",
    "ohe = OneHotEncoder(handle_unknown='ignore', sparse_output=False)\n",
    "X_train_encoded = ohe.fit_transform(X_train[categorical_features])\n",
    "X_val_encoded = ohe.transform(X_val[categorical_features])\n",
    "X_test_encoded = ohe.transform(X_test[categorical_features])\n",
    "\n",
    "lc = LabelEncoder()\n",
    "y_train = lc.fit_transform(y_train)\n",
    "y_test = lc.transform(y_test)\n",
    "y_val = lc.transform(y_val)\n",
    "y_trainval = np.concatenate((y_train, y_val))\n",
    "display(y_trainval)\n",
    "\n",
    "scaler = StandardScaler()\n",
    "X_train_numerical = scaler.fit_transform(X_train[numerical_features])\n",
    "X_val_numerical = scaler.transform(X_val[numerical_features])\n",
    "X_test_numerical = scaler.transform(X_test[numerical_features])\n",
    "\n",
    "X_train = np.concatenate((X_train_encoded, X_train_numerical), axis=1)\n",
    "X_val = np.concatenate((X_val_encoded, X_val_numerical), axis=1)\n",
    "X_test = np.concatenate((X_test_encoded, X_test_numerical), axis=1)\n",
    "X_trainval = np.concatenate((X_train, X_val))\n",
    "\n"
   ]
  },
  {
   "cell_type": "markdown",
   "id": "2f0d7ed7-1411-403f-bb79-b18a4488e0cb",
   "metadata": {},
   "source": [
    "For data preparation we first take a look at the data, where and the entries that have a lot of missing rows like: stem-root, spore-print-color...\n",
    "\n",
    "We can't have those when we do the `dropna` which drops all rows including any missing values, if we do then we will end up dropping a big portion of the dataset.\n",
    "\n",
    "After cleaning is done we have to handle string label values, which in this case we do by doing one-hot encoding, meaning we add an additional column for each unique value of the feature (either 0 or 1) which indicates if that is the value for that feature on that row. All of that is done for us by the `OneHotEncoder`.\n",
    "\n",
    "Finally we are scaling all the numerical values using the `StandardScaler` and concatenating together with the encoded data."
   ]
  },
  {
   "cell_type": "code",
   "execution_count": 71,
   "id": "035da4cd-c004-41ef-b8b0-705548c3b8cb",
   "metadata": {},
   "outputs": [
    {
     "name": "stdout",
     "output_type": "stream",
     "text": [
      "Fitting 5 folds for each of 35 candidates, totalling 175 fits\n",
      "Best parameters: {'C': 1, 'l1_ratio': 1}\n",
      "Best accuracy score: 0.8658224163027656\n",
      "Test accuracy: 0.8654047681425203\n"
     ]
    }
   ],
   "source": [
    "param_grid = {\n",
    "    'C': [0.0001, 0.001, 0.01, 0.1, 1, 10, 100],  # Regularization parameter\n",
    "    'l1_ratio': [0, 0.25, 0.5, 0.75, 1]  # Elastic Net mixing parameter\n",
    "}\n",
    "cv = StratifiedKFold(n_splits=5, shuffle=True, random_state=42)\n",
    "\n",
    "accuracy_scorer = make_scorer(accuracy_score)\n",
    "\n",
    "lr = LogisticRegression(\n",
    "    penalty=\"elasticnet\",\n",
    "    solver=\"saga\",\n",
    "    tol=0.01,\n",
    "    random_state=42,\n",
    "    max_iter=1000\n",
    ")\n",
    "\n",
    "grid_search = GridSearchCV(\n",
    "    lr,\n",
    "    param_grid,\n",
    "    scoring=accuracy_scorer,\n",
    "    cv=cv,\n",
    "    verbose=1,\n",
    "    n_jobs=-1\n",
    ")\n",
    "\n",
    "grid_search.fit(X_train, y_train)\n",
    "\n",
    "print(\"Best parameters:\", grid_search.best_params_)\n",
    "print(\"Best accuracy score:\", grid_search.best_score_)\n",
    "\n",
    "\n",
    "lr = grid_search.best_estimator_\n",
    "y_pred = lr.predict(X_test)\n",
    "test_accuracy = accuracy_score(y_test, y_pred)\n",
    "print(\"Test accuracy:\", test_accuracy)\n"
   ]
  },
  {
   "cell_type": "markdown",
   "id": "1a8aed1a-af73-495a-af59-2ce9159fc9ac",
   "metadata": {},
   "source": [
    "In this cell we do cross validation based on which we adjust the `C` and `l1_ratio` parameters on the `LogisticRegression`. We do that by using the `GridSearchCV` class from `sklearn`, which automatically performs cross validation on the given model with a certain param grid.\n",
    "\n",
    "In this case here we optimize for accuracy, which usully leads to the best \"all around\" model, but as we will see later it might not be the best for the real world scenario we are in."
   ]
  },
  {
   "cell_type": "code",
   "execution_count": 72,
   "id": "a5445274-2eee-4f25-abba-b80988441561",
   "metadata": {},
   "outputs": [
    {
     "data": {
      "image/png": "[encoded data removed]",
      "text/plain": [
       "<Figure size 640x480 with 2 Axes>"
      ]
     },
     "metadata": {},
     "output_type": "display_data"
    },
    {
     "name": "stdout",
     "output_type": "stream",
     "text": [
      "Starting max_depth search on range: [ 1  2  3  4  5  6  7  8  9 10 11 12 13 14 15 16 17 18 19 20 21 22 23 24\n",
      " 25 26 27 28 29 30 31 32 33 34 35 36 37 38 39 40 41 42 43 44 45 46 47 48\n",
      " 49]\n",
      "  New best score found: 0.6042 at max_depth=1\n",
      "  New best score found: 0.6501 at max_depth=2\n",
      "  New best score found: 0.6768 at max_depth=3\n",
      "  New best score found: 0.6902 at max_depth=4\n",
      "  New best score found: 0.7247 at max_depth=5\n",
      "  New best score found: 0.7555 at max_depth=6\n",
      "  New best score found: 0.7708 at max_depth=7\n",
      "  New best score found: 0.8112 at max_depth=8\n",
      "  New best score found: 0.8391 at max_depth=9\n",
      "  New best score found: 0.8613 at max_depth=10\n",
      "  New best score found: 0.8668 at max_depth=11\n",
      "  New best score found: 0.8808 at max_depth=12\n",
      "  New best score found: 0.9048 at max_depth=13\n",
      "  New best score found: 0.9334 at max_depth=14\n",
      "  New best score found: 0.9455 at max_depth=15\n",
      "  New best score found: 0.9643 at max_depth=16\n",
      "  New best score found: 0.9779 at max_depth=17\n",
      "  New best score found: 0.9831 at max_depth=18\n",
      "  New best score found: 0.9878 at max_depth=19\n",
      "  New best score found: 0.9906 at max_depth=20\n",
      "  New best score found: 0.9946 at max_depth=21\n",
      "  New best score found: 0.9966 at max_depth=22\n",
      "  New best score found: 0.9976 at max_depth=23\n",
      "  New best score found: 0.9979 at max_depth=24\n",
      "Best maxdepth found: 24\n",
      "Best score on validation found: 0.9979041131778884\n",
      "Score on training on validation found: 0.9996069954804481\n",
      "Score on test: 0.9985590778097982\n"
     ]
    },
    {
     "data": {
      "image/png": "[encoded data removed]",
      "text/plain": [
       "<Figure size 640x480 with 2 Axes>"
      ]
     },
     "metadata": {},
     "output_type": "display_data"
    }
   ],
   "source": [
    "y_pred_lr = lr.predict(X_test)\n",
    "cm_lr = confusion_matrix(y_test, y_pred_lr, labels=[0, 1])\n",
    "disp_lr = ConfusionMatrixDisplay(confusion_matrix=cm_lr, display_labels=[0, 1])\n",
    "disp_lr.plot()\n",
    "plt.title(f\"Logistic Regression (C=1) Confusion Matrix\")\n",
    "plt.show()\n",
    "\n",
    "best_max_depth = 0\n",
    "best_score = 0\n",
    "search_depths = np.arange(1, 50)\n",
    "\n",
    "print(f\"Starting max_depth search on range: {search_depths}\")\n",
    "\n",
    "for md in search_depths:\n",
    "    temp_dtr = DecisionTreeClassifier(max_depth=md, random_state=42)\n",
    "    temp_dtr.fit(X_train, y_train)\n",
    "    score = temp_dtr.score(X_val, y_val)\n",
    "    if score > best_score:\n",
    "        best_score = score\n",
    "        best_max_depth = md\n",
    "        print(f\"  New best score found: {best_score:.4f} at max_depth={best_max_depth}\")\n",
    "\n",
    "dtr = DecisionTreeClassifier(max_depth=best_max_depth, random_state=42)\n",
    "dtr.fit(X_trainval, y_trainval)\n",
    "print(\"Best maxdepth found: {}\".format(best_max_depth))\n",
    "print(\"Best score on validation found: {}\".format(best_score))\n",
    "print(\"Score on training on validation found: {}\".format(dtr.score(X_trainval, y_trainval)))\n",
    "print(\"Score on test: {}\".format(dtr.score(X_test, y_test)))\n",
    "y_pred_tree = dtr.predict(X_test)\n",
    "cm_tree = confusion_matrix(y_test, y_pred_tree, labels=[0, 1])\n",
    "disp_tree = ConfusionMatrixDisplay(confusion_matrix=cm_tree, display_labels=[0, 1])\n",
    "disp_tree.plot()\n",
    "plt.title(\"Decision Tree Confusion Matrix\")\n",
    "plt.show()"
   ]
  },
  {
   "cell_type": "markdown",
   "id": "8563b6db-3b97-4903-b5c8-41beb95f768a",
   "metadata": {},
   "source": [
    "As we can see on the confusion matrix the `DecisionTreeClassifier` does quite a bit better than the `LogisticRegression` model. We can see 4 false edible predictions and 4 false poisionous prediction. Whereas on the `LogisticRegression` we have 948 false edible and 660 false poisonous predictions."
   ]
  },
  {
   "cell_type": "code",
   "execution_count": 83,
   "id": "8435c85b-57e1-4ae7-b6c0-0b9d2eb922d7",
   "metadata": {},
   "outputs": [
    {
     "name": "stdout",
     "output_type": "stream",
     "text": [
      "Report for Logistic regression: \n",
      "               precision    recall  f1-score   support\n",
      "\n",
      "           0       0.85      0.85      0.85      6781\n",
      "           1       0.88      0.88      0.88      8487\n",
      "\n",
      "    accuracy                           0.87     15268\n",
      "   macro avg       0.86      0.86      0.86     15268\n",
      "weighted avg       0.87      0.87      0.87     15268\n",
      "\n",
      "Report for precision tree: \n",
      "               precision    recall  f1-score   support\n",
      "\n",
      "           0       1.00      1.00      1.00      6781\n",
      "           1       1.00      1.00      1.00      8487\n",
      "\n",
      "    accuracy                           1.00     15268\n",
      "   macro avg       1.00      1.00      1.00     15268\n",
      "weighted avg       1.00      1.00      1.00     15268\n",
      "\n"
     ]
    }
   ],
   "source": [
    "from sklearn.metrics import classification_report\n",
    "\n",
    "print(\"Report for Logistic regression: \\n\", classification_report(y_test, lr.predict(X_test)))\n",
    "\n",
    "print(\"Report for precision tree: \\n\", classification_report(y_test, dtr.predict(X_test)))\n"
   ]
  },
  {
   "cell_type": "markdown",
   "id": "1585004e-34d4-41eb-998c-efb4d924993a",
   "metadata": {},
   "source": [
    "For dataset classifying poisonous vs. edible, recall is the most crucial metric. It measures the model's ability to identify all actual poisonous mushrooms, minimizing the dangerous misclassification of a poisonous mushroom as edible. While precision (how often the model is correct when predicting a mushroom is poisonous) is valuable, prioritizing recall ensures safety. Accuracy can be misleading due to potential class imbalance, and F1-score, while balanced, shouldn't be favored at the expense of recall. Therefore, maximizing recall while monitoring precision and F1-score is the optimal approach.\n",
    "\n",
    "If we were to optimize for recall in the case of Logistic Regression we would lower the threshold based on which we classify, by default it is 0.5 - the halfway point."
   ]
  }
 ],
 "metadata": {
  "kernelspec": {
   "display_name": "Python 3 (ipykernel)",
   "language": "python",
   "name": "python3"
  },
  "language_info": {
   "codemirror_mode": {
    "name": "ipython",
    "version": 3
   },
   "file_extension": ".py",
   "mimetype": "text/x-python",
   "name": "python",
   "nbconvert_exporter": "python",
   "pygments_lexer": "ipython3",
   "version": "3.10.17"
  }
 },
 "nbformat": 4,
 "nbformat_minor": 5
}
