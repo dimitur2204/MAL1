{
 "cells": [
  {
   "cell_type": "markdown",
   "id": "0bafe240-5583-43b9-86b0-4366a08c288c",
   "metadata": {},
   "source": [
    "# 4. Mushroom foraging"
   ]
  },
  {
   "cell_type": "markdown",
   "id": "52d567a6-0b39-4543-aaba-2fb1e5183085",
   "metadata": {},
   "source": [
    "* Informed **data preparation**.\n",
    "* 2 different classification models, one of which must be **logistic regression**.\n",
    "* A discussion of which **performance metric** is most relevant for the evaluation of your models.\n",
    "* 2 different **validation methodologies** used to tune hyperparameters.\n",
    "* **Confusion matrices** for your models, and associated comments."
   ]
  },
  {
   "cell_type": "markdown",
   "id": "31181875-5c48-4e3b-9ba3-a0febdb9ebb2",
   "metadata": {},
   "source": [
    "The [mushroom dataset](https://www.kaggle.com/datasets/dhinaharp/mushroom-dataset) contains data about approximately 60000 mushrooms, and your task is to classify them as either edible or poisonous. You can read about the features [here](https://www.kaggle.com/datasets/uciml/mushroom-classification) and import the data using:"
   ]
  },
  {
   "cell_type": "code",
   "execution_count": 1,
   "id": "84f81650-d532-4933-8726-3edf3e2ef242",
   "metadata": {},
   "outputs": [
    {
     "name": "stdout",
     "output_type": "stream",
     "text": [
      "class                    0.000000\n",
      "cap-diameter             0.000000\n",
      "cap-shape                0.000000\n",
      "cap-surface             23.121387\n",
      "cap-color                0.000000\n",
      "does-bruise-or-bleed     0.000000\n",
      "gill-attachment         16.184971\n",
      "gill-spacing            41.040462\n",
      "gill-color               0.000000\n",
      "stem-height              0.000000\n",
      "stem-width               0.000000\n",
      "stem-root               84.393064\n",
      "stem-surface            62.427746\n",
      "stem-color               0.000000\n",
      "veil-type               94.797688\n",
      "veil-color              87.861272\n",
      "has-ring                 0.000000\n",
      "ring-type                4.046243\n",
      "spore-print-color       89.595376\n",
      "habitat                  0.000000\n",
      "season                   0.000000\n",
      "dtype: float64\n"
     ]
    }
   ],
   "source": [
    "import pandas as pd\n",
    "import numpy as np\n",
    "from sklearn.model_selection import train_test_split, cross_val_score, StratifiedKFold, GridSearchCV\n",
    "from sklearn.preprocessing import OneHotEncoder, StandardScaler\n",
    "from sklearn.linear_model import LogisticRegression\n",
    "from sklearn.svm import SVC\n",
    "from sklearn.tree import DecisionTreeClassifier\n",
    "import mglearn\n",
    "import matplotlib.pyplot as plt\n",
    "from sklearn.metrics import confusion_matrix, ConfusionMatrixDisplay, precision_score, recall_score, f1_score, accuracy_score, make_scorer\n",
    "\n",
    "\n",
    "pd.set_option('display.max_columns', 1000)\n",
    "df = pd.read_csv('secondary_data.csv',delimiter=';')\n",
    "\n",
    "X = df.drop('class', axis=1)\n",
    "y = df['class']\n",
    "print((df.isna().sum()/len(df)) * 100)\n",
    "df.drop(['gill-spacing', 'stem-root', 'veil-type', 'veil-color', 'stem-surface', 'spore-print-color'], inplace=True, axis=1)\n",
    "df.dropna(inplace=True)\n",
    "\n",
    "categorical_features = X.select_dtypes(include='object').columns.tolist()\n",
    "numerical_features = X.select_dtypes(exclude=['object']).columns.tolist()\n",
    "X_train, X_test, y_train, y_test = train_test_split(\n",
    "    X, y, test_size=0.2, random_state=42, stratify=y\n",
    ")\n",
    "ohe = OneHotEncoder(handle_unknown='ignore', sparse_output=False)\n",
    "X_train_encoded = ohe.fit_transform(X_train[categorical_features])\n",
    "X_test_encoded = ohe.transform(X_test[categorical_features])\n",
    "    \n",
    "scaler = StandardScaler()\n",
    "X_train_numerical = scaler.fit_transform(X_train[numerical_features])\n",
    "X_test_numerical = scaler.transform(X_test[numerical_features])\n",
    "\n",
    "X_train = np.concatenate((X_train_encoded, X_train_numerical), axis=1)\n",
    "X_test = np.concatenate((X_test_encoded, X_test_numerical), axis=1)\n",
    "\n"
   ]
  },
  {
   "cell_type": "markdown",
   "id": "2f0d7ed7-1411-403f-bb79-b18a4488e0cb",
   "metadata": {},
   "source": [
    "For data preparation we first take a look at the data, where and the entries that have a lot of missing rows like: stem-root, spore-print-color...\n",
    "\n",
    "We can't have those when we do the `dropna` which drops all rows including any missing values, if we do then we will end up dropping a big portion of the dataset.\n",
    "\n",
    "After cleaning is done we have to handle string label values, which in this case we do by doing one-hot encoding, meaning we add an additional column for each unique value of the feature (either 0 or 1) which indicates if that is the value for that feature on that row. All of that is done for us by the `OneHotEncoder`.\n",
    "\n",
    "Finally we are scaling all the numerical values using the `StandardScaler` and concatenating together with the encoded data."
   ]
  },
  {
   "cell_type": "code",
   "execution_count": 7,
   "id": "035da4cd-c004-41ef-b8b0-705548c3b8cb",
   "metadata": {},
   "outputs": [
    {
     "name": "stdout",
     "output_type": "stream",
     "text": [
      "Fitting 5 folds for each of 35 candidates, totalling 175 fits\n",
      "Best parameters: {'C': 1, 'l1_ratio': 0.75}\n",
      "Best accuracy score: 0.8662777607204994\n",
      "Test accuracy: 0.8645816276404127\n"
     ]
    }
   ],
   "source": [
    "param_grid = {\n",
    "    'C': [0.0001, 0.001, 0.01, 0.1, 1, 10, 100],  # Regularization parameter\n",
    "    'l1_ratio': [0, 0.25, 0.5, 0.75, 1]  # Elastic Net mixing parameter\n",
    "}\n",
    "cv = StratifiedKFold(n_splits=5, shuffle=True, random_state=42)\n",
    "\n",
    "accuracy_scorer = make_scorer(accuracy_score)\n",
    "\n",
    "lr = LogisticRegression(\n",
    "    penalty=\"elasticnet\",\n",
    "    solver=\"saga\",\n",
    "    tol=0.01,\n",
    "    random_state=42,\n",
    "    max_iter=1000\n",
    ")\n",
    "\n",
    "grid_search = GridSearchCV(\n",
    "    lr,\n",
    "    param_grid,\n",
    "    scoring=accuracy_scorer,\n",
    "    cv=cv,\n",
    "    verbose=1,\n",
    "    n_jobs=-1\n",
    ")\n",
    "\n",
    "grid_search.fit(X_train, y_train)\n",
    "\n",
    "print(\"Best parameters:\", grid_search.best_params_)\n",
    "print(\"Best accuracy score:\", grid_search.best_score_)\n",
    "\n",
    "\n",
    "lr = grid_search.best_estimator_\n",
    "y_pred = lr.predict(X_test)\n",
    "test_accuracy = accuracy_score(y_test, y_pred)\n",
    "print(\"Test accuracy:\", test_accuracy)\n"
   ]
  },
  {
   "cell_type": "markdown",
   "id": "1a8aed1a-af73-495a-af59-2ce9159fc9ac",
   "metadata": {},
   "source": [
    "In this cell we do cross validation based on which we adjust the `C` and `l1_ratio` parameters on the `LogisticRegression`. We do that by using the `GridSearchCV` class from `sklearn`, which automatically performs cross validation on the given model with a certain param grid.\n",
    "\n",
    "In this case here we optimize for accuracy, which usully leads to the best \"all around\" model, but as we will see later it might not be the best for the real world scenario we are in."
   ]
  },
  {
   "cell_type": "code",
   "execution_count": 4,
   "id": "a5445274-2eee-4f25-abba-b80988441561",
   "metadata": {},
   "outputs": [
    {
     "data": {
      "image/png": "[encoded data removed]",
      "text/plain": [
       "<Figure size 640x480 with 2 Axes>"
      ]
     },
     "metadata": {},
     "output_type": "display_data"
    },
    {
     "data": {
      "image/png": "[encoded data removed]",
      "text/plain": [
       "<Figure size 640x480 with 2 Axes>"
      ]
     },
     "metadata": {},
     "output_type": "display_data"
    }
   ],
   "source": [
    "y_pred_lr = lr.predict(X_test)\n",
    "cm_lr = confusion_matrix(y_test, y_pred_lr, labels=['e', 'p'])\n",
    "disp_lr = ConfusionMatrixDisplay(confusion_matrix=cm_lr, display_labels=['e', 'p'])\n",
    "disp_lr.plot()\n",
    "plt.title(f\"Logistic Regression (C=1) Confusion Matrix\")\n",
    "plt.show()\n",
    "\n",
    "\n",
    "dtr = DecisionTreeClassifier(max_depth=100, random_state=42)\n",
    "dtr.fit(X_train, y_train)\n",
    "\n",
    "y_pred_tree = dtr.predict(X_test)\n",
    "cm_tree = confusion_matrix(y_test, y_pred_tree, labels=['e', 'p'])\n",
    "disp_tree = ConfusionMatrixDisplay(confusion_matrix=cm_tree, display_labels=['e', 'p'])\n",
    "disp_tree.plot()\n",
    "plt.title(\"Decision Tree Confusion Matrix\")\n",
    "plt.show()"
   ]
  },
  {
   "cell_type": "markdown",
   "id": "8563b6db-3b97-4903-b5c8-41beb95f768a",
   "metadata": {},
   "source": [
    "As we can see on the confusion matrix the `DecisionTreeClassifier` does quite a bit better than the `LogisticRegression` model. We can see 4 false edible predictions and 4 false poisionous prediction. Whereas on the `LogisticRegression` we have 948 false edible and 660 false poisonous predictions."
   ]
  },
  {
   "cell_type": "code",
   "execution_count": 19,
   "id": "8435c85b-57e1-4ae7-b6c0-0b9d2eb922d7",
   "metadata": {},
   "outputs": [
    {
     "name": "stdout",
     "output_type": "stream",
     "text": [
      "                      Model  Precision    Recall  F1-Score  Accuracy\n",
      "0  Logistic Regression (CV)   0.876211  0.880348  0.878275  0.864582\n",
      "1             Decision Tree   0.999410  0.999410  0.999410  0.999345\n"
     ]
    }
   ],
   "source": [
    "def calculate_metrics(y_true, y_pred, labels=['e', 'p']):\n",
    "    precision = precision_score(y_true, y_pred, pos_label='p')\n",
    "    recall = recall_score(y_true, y_pred, pos_label='p')\n",
    "    f1 = f1_score(y_true, y_pred, pos_label='p')\n",
    "    accuracy = accuracy_score(y_true, y_pred)\n",
    "    return precision, recall, f1, accuracy\n",
    "precision_tree, recall_tree, f1_tree, accuracy_tree = calculate_metrics(\n",
    "    y_test, y_pred_tree\n",
    ")\n",
    "precision_lr, recall_lr, f1_lr, accuracy_lr = calculate_metrics(\n",
    "    y_test, y_pred_lr\n",
    ")\n",
    "\n",
    "data = {\n",
    "    'Model': [\n",
    "        'Logistic Regression (CV)',\n",
    "        'Decision Tree',\n",
    "    ],\n",
    "    'Precision': [precision_lr, precision_tree],\n",
    "    'Recall': [recall_lr, recall_tree],\n",
    "    'F1-Score': [f1_lr, f1_tree],\n",
    "    'Accuracy': [accuracy_lr, accuracy_tree],\n",
    "}\n",
    "\n",
    "df = pd.DataFrame(data)\n",
    "\n",
    "print(df)"
   ]
  },
  {
   "cell_type": "code",
   "execution_count": 18,
   "id": "acec8596-c417-4b65-b5ee-775097bfe61c",
   "metadata": {},
   "outputs": [
    {
     "name": "stdout",
     "output_type": "stream",
     "text": [
      "                      Model  Precision    Recall  F1-Score  Accuracy\n",
      "0  Logistic Regression (CV)   0.792362  0.952051  0.864897  0.834944\n"
     ]
    }
   ],
   "source": [
    "y_proba = lr.predict_proba(X_test)\n",
    "\n",
    "positive_class_index = np.where(lr.classes_ == 'p')[0][0]\n",
    "\n",
    "y_proba_positive = y_proba[:, positive_class_index]\n",
    "\n",
    "threshold = 0.3\n",
    "\n",
    "y_pred_threshold = (y_proba_positive >= threshold).astype(str)\n",
    "\n",
    "y_pred_threshold[y_pred_threshold == 'True'] = 'p'\n",
    "y_pred_threshold[y_pred_threshold == 'False'] = 'e'\n",
    "\n",
    "precision_lr, recall_lr, f1_lr, accuracy_lr = calculate_metrics(\n",
    "    y_test, y_pred_threshold\n",
    ")\n",
    "\n",
    "data = {\n",
    "    'Model': [\n",
    "        'Logistic Regression (CV)',\n",
    "    ],\n",
    "    'Precision': [precision_lr],\n",
    "    'Recall': [recall_lr],\n",
    "    'F1-Score': [f1_lr],\n",
    "    'Accuracy': [accuracy_lr],\n",
    "}\n",
    "\n",
    "df = pd.DataFrame(data)\n",
    "\n",
    "print(df)"
   ]
  },
  {
   "cell_type": "markdown",
   "id": "1585004e-34d4-41eb-998c-efb4d924993a",
   "metadata": {},
   "source": [
    "For dataset classifying poisonous vs. edible, recall is the most crucial metric. It measures the model's ability to identify all actual poisonous mushrooms, minimizing the dangerous misclassification of a poisonous mushroom as edible. While precision (how often the model is correct when predicting a mushroom is poisonous) is valuable, prioritizing recall ensures safety. Accuracy can be misleading due to potential class imbalance, and F1-score, while balanced, shouldn't be favored at the expense of recall. Therefore, maximizing recall while monitoring precision and F1-score is the optimal approach.\n",
    "\n",
    "If we were to optimize for recall in the case of Logistic Regression we would lower the threshold based on which we classify, by default it is 0.5 - the halfway point."
   ]
  }
 ],
 "metadata": {
  "kernelspec": {
   "display_name": "Python 3 (ipykernel)",
   "language": "python",
   "name": "python3"
  },
  "language_info": {
   "codemirror_mode": {
    "name": "ipython",
    "version": 3
   },
   "file_extension": ".py",
   "mimetype": "text/x-python",
   "name": "python",
   "nbconvert_exporter": "python",
   "pygments_lexer": "ipython3",
   "version": "3.13.2"
  }
 },
 "nbformat": 4,
 "nbformat_minor": 5
}
